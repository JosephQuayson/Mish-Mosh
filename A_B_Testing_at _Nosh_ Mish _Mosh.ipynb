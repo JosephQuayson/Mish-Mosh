{
 "cells": [
  {
   "cell_type": "code",
   "execution_count": null,
   "metadata": {},
   "outputs": [],
   "source": [
    "import noshmishmosh\n",
    "import numpy as np\n",
    "\n"
   ]
  },
  {
   "cell_type": "code",
   "execution_count": null,
   "metadata": {},
   "outputs": [],
   "source": [
    "#In order to get our baseline\n",
    "\n",
    "all_visitors= noshmishmosh.customer_visits\n",
    "\n",
    "#  to know how many visitors to the site ultimately end up buying a meal or set of meals in a typical week\n",
    "paying_visitors = noshmishmosh.purchasing_customers\n",
    "\n",
    "#Total number of visitors\n",
    "total_visitor_count = len(all_visitors)\n",
    "paying_visitor_count = len(paying_visitors)\n",
    "\n",
    "#Baseline\n",
    "baseline_percent = paying_visitor_count / total_visitor_count * 100\n",
    "\n",
    "print(baseline_percent)\n",
    "\n",
    "\n",
    "payment_history = noshmishmosh.money_spent\n",
    "\n",
    "# to find how many purchases it would take to reach $1240\n",
    "average_payment = np.mean(payment_history)\n",
    "\n",
    "# to know how many of these “usual” payments it would take to clear our $1240 mark\n",
    "\n",
    "new_customers_needed = np.ceil(1240 / average_payment)\n",
    "\n",
    "# additional percent of weekly visitors who must make a purchase in order to make this change worthwhile\n",
    "\n",
    "percentage_point_increase = new_customers_needed / total_visitor_count * 100\n",
    "\n",
    "\n",
    "#Finding the desired lift\n",
    "lift = percentage_point_increase / baseline_percent * 100\n",
    "\n",
    "print(lift)"
   ]
  },
  {
   "cell_type": "code",
   "execution_count": null,
   "metadata": {},
   "outputs": [],
   "source": []
  },
  {
   "cell_type": "code",
   "execution_count": null,
   "metadata": {},
   "outputs": [],
   "source": []
  }
 ],
 "metadata": {
  "kernelspec": {
   "display_name": "Python 3",
   "language": "python",
   "name": "python3"
  },
  "language_info": {
   "codemirror_mode": {
    "name": "ipython",
    "version": 3
   },
   "file_extension": ".py",
   "mimetype": "text/x-python",
   "name": "python",
   "nbconvert_exporter": "python",
   "pygments_lexer": "ipython3",
   "version": "3.7.6"
  }
 },
 "nbformat": 4,
 "nbformat_minor": 4
}
